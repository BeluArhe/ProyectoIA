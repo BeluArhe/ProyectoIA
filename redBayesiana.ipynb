{
 "cells": [
  {
   "cell_type": "code",
   "execution_count": null,
   "id": "4e93f5c3",
   "metadata": {},
   "outputs": [],
   "source": [
    "\"\"\"\n",
    "Sistema de Diagnóstico Médico usando Redes Bayesianas\n",
    "\n",
    "REQUISITOS DE INSTALACIÓN:\n",
    "==========================\n",
    "Paquetes Python necesarios (ejecutar en terminal/CMD):\n",
    "\n",
    "# Instalación básica (mínimo requerido)\n",
    "pip install pomegranate numpy matplotlib networkx\n",
    "\n",
    "# Versiones específicas recomendadas (para evitar conflictos)\n",
    "pip install pomegranate==0.14.8 numpy==1.23.5 matplotlib==3.7.1 networkx==3.1\n",
    "\n",
    "# Para visualizaciones mejoradas (opcional)\n",
    "pip install pygraphviz scipy pandas\n",
    "\n",
    "# Instalación completa (recomendada)\n",
    "pip install pomegranate numpy matplotlib networkx pygraphviz scipy pandas\n",
    "\n",
    "NOTAS ADICIONALES:\n",
    "- GraphViz debe estar instalado en el sistema para visualizaciones:\n",
    "  * Windows: Descargar de https://graphviz.org/download/\n",
    "  * Linux/Mac: sudo apt-get install graphviz / brew install graphviz\n",
    "- Reiniciar el entorno después de instalar\n",
    "- Si hay problemas con pomegranate, instalar primero:\n",
    "  pip install cython numpy scipy\n",
    "  pip install pomegranate\n",
    "\"\"\""
   ]
  }
 ],
 "metadata": {
  "kernelspec": {
   "display_name": "Python 3",
   "language": "python",
   "name": "python3"
  },
  "language_info": {
   "codemirror_mode": {
    "name": "ipython",
    "version": 3
   },
   "file_extension": ".py",
   "mimetype": "text/x-python",
   "name": "python",
   "nbconvert_exporter": "python",
   "pygments_lexer": "ipython3",
   "version": "3.11.3"
  }
 },
 "nbformat": 4,
 "nbformat_minor": 5
}
